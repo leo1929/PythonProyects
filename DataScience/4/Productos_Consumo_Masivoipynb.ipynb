{
  "nbformat": 4,
  "nbformat_minor": 0,
  "metadata": {
    "colab": {
      "provenance": []
    },
    "kernelspec": {
      "name": "python3",
      "display_name": "Python 3"
    },
    "language_info": {
      "name": "python"
    }
  },
  "cells": [
    {
      "cell_type": "markdown",
      "source": [
        "# Contexto\n",
        "El mercado de productos de un país muestra sus gustos, hábitos y además da una visión general de la evolución de su economía en términos de la sofisticación y precios de los productos que están disponibles. Por ejemplo, la variedad de marcas y productos disponibles en categorías como protectores solares, sopas, cervezas y cremas para peinar ha tenido un crecimiento acelerado en los últimos años ([Fuente: Kantar Worldpanel](https://www.kantar.com/latin-america))."
      ],
      "metadata": {
        "id": "61gl9zKT04xV"
      }
    },
    {
      "cell_type": "code",
      "execution_count": null,
      "metadata": {
        "id": "pJjI41Yo02Ic"
      },
      "outputs": [],
      "source": []
    }
  ]
}