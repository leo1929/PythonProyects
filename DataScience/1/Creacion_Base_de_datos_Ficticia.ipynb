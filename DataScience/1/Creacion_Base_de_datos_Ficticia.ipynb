{
  "nbformat": 4,
  "nbformat_minor": 0,
  "metadata": {
    "colab": {
      "provenance": [],
      "authorship_tag": "ABX9TyNWa+tckb2+1f+4BBluBgPT"
    },
    "kernelspec": {
      "name": "python3",
      "display_name": "Python 3"
    },
    "language_info": {
      "name": "python"
    }
  },
  "cells": [
    {
      "cell_type": "markdown",
      "source": [
        "# Esto es un ejercio para la creación de una base de datos ficticia de una tienda la cual vende 4 tipos de productos.\n",
        "\n",
        "\n",
        "\n",
        "1.   Electrodomesticos\n",
        "1.   Ropa\n",
        "2.   Bicicletas\n",
        "2.   Comida\n",
        "\n",
        "Creado y desarrolado por: [BOSS LEO PAPI](https://www.linkedin.com/in/leo-hernandez-datasciencee/)\n"
      ],
      "metadata": {
        "id": "OWtzN0UuOfmi"
      }
    },
    {
      "cell_type": "code",
      "execution_count": null,
      "metadata": {
        "id": "0KUCJpRtDD-W"
      },
      "outputs": [],
      "source": [
        "#Importación de librerias a usar\n",
        "import pandas as pd\n",
        "import random\n",
        "!pip install faker\n",
        "from faker import Faker"
      ]
    },
    {
      "cell_type": "markdown",
      "source": [
        "## Descripción de las tablas a usar:\n",
        "\n",
        "## 1. La tabla clientes tendra estos campos:\n",
        "\n",
        "* ID, usar numeros con una longitu de 10 cifras.\n",
        "* Nombre, Nombres aleatorios en Español\n",
        "* Edad, edades desde 15 hasta maximo 100\n",
        "* Correo electronico, tomo las 4 primeras letras del hombre y 2 numeros aleatorios\n",
        "* Telefono, números con el indicativo +57 para saber que son Colombianos y su respectivo operador.\n",
        "\n",
        "## 2. La tabla Productos tendra estos campos:\n",
        "* ID\n",
        "* Categoria, estas son las categorias:\n",
        "  1. Ciclismo:\n",
        "  MTB, Ruta, Gravel\n",
        "\n",
        "  2. Electrodomesticos:\n",
        "  Pc, Tablet, Celular\n",
        "\n",
        "  3. Ropa:\n",
        "  Formal, Casual, Exclusiva\n",
        "  \n",
        "  4. Comida:\n",
        "  Vegana, Italiana, Francesa\n",
        "\n",
        "* Precio, estaran en dolares, aleatoriamente desde 10 USD hasta 8900 USD, por categorias:\n",
        "\n",
        "  1. Ciclismo:\n",
        "  700 USD a 8900 USD aleatoriamente\n",
        "\n",
        "  1. Electrodomesticos:\n",
        "  100 USD a 2000 USD aleatoriamente\n",
        "\n",
        "  1. Ropa:\n",
        "  10 USD a 6900 USD aleatoriamente\n",
        "\n",
        "  1. Comida:\n",
        "  10 USD a 1200 USD aleatoriamente\n",
        "\n",
        "## 3. La tabla Ventas tendra estos campos:\n",
        "\n",
        "* ID Venta\n",
        "* Fecha, en orden Año/Mes/Día\n",
        "* ID Cliente, tiene que ir realacionado con el ID de la tabla clientes\n",
        "* ID Producto, tiene que ir realacionado con el ID de la tabla productos\n",
        "* Cantidad, Valores de venta de cada uno de los productos\n",
        "* Total, Valor total en ventas USD\n",
        "\n",
        "## 4. La tabla Opiniones tendra estos campos:\n",
        "\n",
        "* ID opinión\n",
        "* ID Cliente, tiene que ir relacionado con el ID de la tabla clientes\n",
        "* ID Producto, tiene que ir relacionado con el ID de la tabla de producto\n",
        "* Opinión:Si un cliente tuvo más de 1 venta, osea si en la columna cantidad de la tabla ventas el valor es mayor a 1, mostrar la opinión del producto más caro que el cliente compro.\n",
        "Las opciones de opinión son:\n",
        "  1. None\n",
        "  1. Mala\n",
        "  1. Rgular\n",
        "  1. Aceptable\n",
        "  1. Buena\n",
        "  1. Excelente\n",
        "\n",
        "Con esta base de datos se busca hacer ejercicios de análisiss de datos, manejor de estos, graficas, reportes en programas como Power BI, Tableu entre otros y practicar SQL."
      ],
      "metadata": {
        "id": "tA5tVMceSZSN"
      }
    },
    {
      "cell_type": "code",
      "source": [
        "# Crear instancia en Faker para la creación de nombres en español aleatoriamente\n",
        "faker = Faker('es_ES')\n",
        "\n",
        "# Lista de opciones de números de teléfono con los principales operadores [Tigo, Claro, Movistar, Wom]\n",
        "opciones_telefono = ['300', '301', '302', '303', '304', '324', '310', '311', '312', '313', '314', '320', '321', '322', '323', '315', '316', '317', '318', '319']\n",
        "\n",
        "# Crear lista de nombres de clientes\n",
        "nombres_clientes = [faker.first_name() for _ in range(100)]                     #Lista de 100 Clientes aleatorios en español\n",
        "\n",
        "# Crear tabla Clientes\n",
        "clientes_data = {\n",
        "    'ID': [str(random.randint(1000000000, 9999999999)) for _ in range(100)],    #Numeros de \"Cedula aleatorios de 10 cifras\"\n",
        "    'Nombre': nombres_clientes,\n",
        "    'Edad': [random.randint(15, 100) for _ in range(100)],                      #Lista de 100 edades aleatorias de 15 hasta 100 años\n",
        "    'Correo electrónico': ['{}{}@gmail.com'.format(nombre[:4].lower(), random.randint(10, 99)) for nombre in [n[:4] for n in nombres_clientes]],\n",
        "     #Lista de 100 elementos, uso las primeras 4 letras de la columna Nombre seguido de 2 numeros aleatorios\n",
        "    'Teléfono': ['+57 {} {}'.format(random.choice(opciones_telefono), random.randint(1000000, 9999999)) for _ in range(100)],\n",
        "     #Lista de 100 datos, Genero número aleatorios con el formato [+57 {opción_telefono} {número_telefono}]\n",
        "}\n",
        "clientes_df = pd.DataFrame(clientes_data)\n",
        "display(clientes_df)"
      ],
      "metadata": {
        "id": "zohVfmr5PBbC"
      },
      "execution_count": null,
      "outputs": []
    },
    {
      "cell_type": "code",
      "source": [
        "# Crear tabla Productos\n",
        "categorias = ['Ciclismo', 'Electrodomesticos', 'Ropa', 'Comida']\n",
        "subcategorias = {\n",
        "    'Ciclismo': ['MTB', 'Ruta', 'Gravel'],\n",
        "    'Electrodomesticos': ['Pc', 'Tablet', 'Celular'],\n",
        "    'Ropa': ['Formal', 'Casual', 'Exclusiva'],\n",
        "    'Comida': ['Vegana', 'Italiana', 'Francesa']\n",
        "}\n",
        "\n",
        "productos_data = {\n",
        "    'ID Producto': range(1, 101),\n",
        "    'Categoria': [],\n",
        "    'Precio USD': [],\n",
        "}\n",
        "\n",
        "for _ in range(100):\n",
        "    categoria = random.choice(categorias)\n",
        "    subcategoria = random.choice(subcategorias[categoria])\n",
        "    productos_data['Categoria'].append(f'{categoria} - {subcategoria}')\n",
        "\n",
        "    if categoria == 'Ciclismo':\n",
        "        productos_data['Precio USD'].append(random.randint(700, 8900))\n",
        "    elif categoria == 'Electrodomesticos':\n",
        "        productos_data['Precio USD'].append(random.randint(100, 2000))\n",
        "    elif categoria == 'Ropa':\n",
        "        productos_data['Precio USD'].append(random.randint(10, 6900))\n",
        "    elif categoria == 'Comida':\n",
        "        productos_data['Precio USD'].append(random.randint(10, 1200))\n",
        "\n",
        "productos_df = pd.DataFrame(productos_data)\n",
        "display(productos_df)"
      ],
      "metadata": {
        "id": "VhPBQsSoPShg"
      },
      "execution_count": null,
      "outputs": []
    },
    {
      "cell_type": "code",
      "source": [
        "# Crear tabla Ventas\n",
        "ventas_data = {\n",
        "    'ID Venta': range(1, 101),\n",
        "    'Fecha': [],\n",
        "    'ID Cliente': [],\n",
        "    'ID Producto': [],\n",
        "    'Cantidad': [],\n",
        "    'Total': []\n",
        "}\n",
        "\n",
        "for _ in range(100):\n",
        "    fecha = faker.date_between(start_date='-1y', end_date='today').strftime('%Y/%m/%d')\n",
        "    id_cliente = random.choice(clientes_df['ID'])\n",
        "    id_producto = random.choice(productos_df['ID Producto'])\n",
        "    cantidad = random.randint(1, 10)\n",
        "    precio_producto = productos_df.loc[productos_df['ID Producto'] == id_producto, 'Precio USD'].values[0]\n",
        "    total = cantidad * precio_producto\n",
        "\n",
        "    ventas_data['Fecha'].append(fecha)\n",
        "    ventas_data['ID Cliente'].append(id_cliente)\n",
        "    ventas_data['ID Producto'].append(id_producto)\n",
        "    ventas_data['Cantidad'].append(cantidad)\n",
        "    ventas_data['Total'].append(total)\n",
        "\n",
        "ventas_df = pd.DataFrame(ventas_data)\n",
        "display(ventas_df)"
      ],
      "metadata": {
        "id": "6BHsSKcpxih5"
      },
      "execution_count": null,
      "outputs": []
    },
    {
      "cell_type": "code",
      "source": [
        "# Crear tabla de Opciones\n",
        "opiniones_data = {\n",
        "    'ID opinión': range(1, 101),\n",
        "    'ID Cliente': [],\n",
        "    'ID Producto': [],\n",
        "    'Opinión': []\n",
        "}\n",
        "\n",
        "for _, row in ventas_df.iterrows():\n",
        "    id_cliente = row['ID Cliente']\n",
        "    id_producto = row['ID Producto']\n",
        "    cantidad = row['Cantidad']\n",
        "\n",
        "    if cantidad > 1:\n",
        "        max_precio = productos_df.loc[productos_df['ID Producto'] == id_producto, 'Precio USD'].values[0]\n",
        "        for _, venta in ventas_df.loc[ventas_df['ID Cliente'] == id_cliente].iterrows():\n",
        "            venta_id_producto = venta['ID Producto']\n",
        "            venta_precio = productos_df.loc[productos_df['ID Producto'] == venta_id_producto, 'Precio USD'].values[0]\n",
        "            if venta_precio > max_precio:\n",
        "                max_precio = venta_precio\n",
        "                id_producto = venta_id_producto\n",
        "\n",
        "    opinion = random.choice(['None', 'Mala', 'Regular', 'Aceptable', 'Buena', 'Excelente'])\n",
        "    opiniones_data['ID Cliente'].append(id_cliente)\n",
        "    opiniones_data['ID Producto'].append(id_producto)\n",
        "    opiniones_data['Opinión'].append(opinion)\n",
        "\n",
        "opiniones_df = pd.DataFrame(opiniones_data)\n",
        "\n",
        "display(opiniones_df)"
      ],
      "metadata": {
        "id": "OlauObCvz8MP"
      },
      "execution_count": null,
      "outputs": []
    },
    {
      "cell_type": "code",
      "source": [
        "from google.colab import files\n",
        "\n",
        "# Exportar a Excel\n",
        "clientes_df.to_excel('clientes.xlsx', index=False)\n",
        "productos_df.to_excel('productos.xlsx', index=False)\n",
        "ventas_df.to_excel('ventas.xlsx', index=False)\n",
        "opiniones_df.to_excel('opiniones.xlsx', index=False)\n",
        "\n",
        "# Descargar los archivos de Excel\n",
        "files.download('clientes.xlsx')\n",
        "files.download('productos.xlsx')\n",
        "files.download('ventas.xlsx')\n",
        "files.download('opiniones.xlsx')"
      ],
      "metadata": {
        "colab": {
          "base_uri": "https://localhost:8080/",
          "height": 17
        },
        "id": "5Hicp2l9Da5Z",
        "outputId": "e81dd704-3a34-46e8-bde1-0c04b445feb7"
      },
      "execution_count": 38,
      "outputs": [
        {
          "output_type": "display_data",
          "data": {
            "text/plain": [
              "<IPython.core.display.Javascript object>"
            ],
            "application/javascript": [
              "\n",
              "    async function download(id, filename, size) {\n",
              "      if (!google.colab.kernel.accessAllowed) {\n",
              "        return;\n",
              "      }\n",
              "      const div = document.createElement('div');\n",
              "      const label = document.createElement('label');\n",
              "      label.textContent = `Downloading \"${filename}\": `;\n",
              "      div.appendChild(label);\n",
              "      const progress = document.createElement('progress');\n",
              "      progress.max = size;\n",
              "      div.appendChild(progress);\n",
              "      document.body.appendChild(div);\n",
              "\n",
              "      const buffers = [];\n",
              "      let downloaded = 0;\n",
              "\n",
              "      const channel = await google.colab.kernel.comms.open(id);\n",
              "      // Send a message to notify the kernel that we're ready.\n",
              "      channel.send({})\n",
              "\n",
              "      for await (const message of channel.messages) {\n",
              "        // Send a message to notify the kernel that we're ready.\n",
              "        channel.send({})\n",
              "        if (message.buffers) {\n",
              "          for (const buffer of message.buffers) {\n",
              "            buffers.push(buffer);\n",
              "            downloaded += buffer.byteLength;\n",
              "            progress.value = downloaded;\n",
              "          }\n",
              "        }\n",
              "      }\n",
              "      const blob = new Blob(buffers, {type: 'application/binary'});\n",
              "      const a = document.createElement('a');\n",
              "      a.href = window.URL.createObjectURL(blob);\n",
              "      a.download = filename;\n",
              "      div.appendChild(a);\n",
              "      a.click();\n",
              "      div.remove();\n",
              "    }\n",
              "  "
            ]
          },
          "metadata": {}
        },
        {
          "output_type": "display_data",
          "data": {
            "text/plain": [
              "<IPython.core.display.Javascript object>"
            ],
            "application/javascript": [
              "download(\"download_d78a5e3d-298e-48b1-8d14-f902913a89a7\", \"clientes.xlsx\", 9633)"
            ]
          },
          "metadata": {}
        },
        {
          "output_type": "display_data",
          "data": {
            "text/plain": [
              "<IPython.core.display.Javascript object>"
            ],
            "application/javascript": [
              "\n",
              "    async function download(id, filename, size) {\n",
              "      if (!google.colab.kernel.accessAllowed) {\n",
              "        return;\n",
              "      }\n",
              "      const div = document.createElement('div');\n",
              "      const label = document.createElement('label');\n",
              "      label.textContent = `Downloading \"${filename}\": `;\n",
              "      div.appendChild(label);\n",
              "      const progress = document.createElement('progress');\n",
              "      progress.max = size;\n",
              "      div.appendChild(progress);\n",
              "      document.body.appendChild(div);\n",
              "\n",
              "      const buffers = [];\n",
              "      let downloaded = 0;\n",
              "\n",
              "      const channel = await google.colab.kernel.comms.open(id);\n",
              "      // Send a message to notify the kernel that we're ready.\n",
              "      channel.send({})\n",
              "\n",
              "      for await (const message of channel.messages) {\n",
              "        // Send a message to notify the kernel that we're ready.\n",
              "        channel.send({})\n",
              "        if (message.buffers) {\n",
              "          for (const buffer of message.buffers) {\n",
              "            buffers.push(buffer);\n",
              "            downloaded += buffer.byteLength;\n",
              "            progress.value = downloaded;\n",
              "          }\n",
              "        }\n",
              "      }\n",
              "      const blob = new Blob(buffers, {type: 'application/binary'});\n",
              "      const a = document.createElement('a');\n",
              "      a.href = window.URL.createObjectURL(blob);\n",
              "      a.download = filename;\n",
              "      div.appendChild(a);\n",
              "      a.click();\n",
              "      div.remove();\n",
              "    }\n",
              "  "
            ]
          },
          "metadata": {}
        },
        {
          "output_type": "display_data",
          "data": {
            "text/plain": [
              "<IPython.core.display.Javascript object>"
            ],
            "application/javascript": [
              "download(\"download_2b18f1bc-7f64-4a1c-88ed-cf301c85b385\", \"productos.xlsx\", 6922)"
            ]
          },
          "metadata": {}
        },
        {
          "output_type": "display_data",
          "data": {
            "text/plain": [
              "<IPython.core.display.Javascript object>"
            ],
            "application/javascript": [
              "\n",
              "    async function download(id, filename, size) {\n",
              "      if (!google.colab.kernel.accessAllowed) {\n",
              "        return;\n",
              "      }\n",
              "      const div = document.createElement('div');\n",
              "      const label = document.createElement('label');\n",
              "      label.textContent = `Downloading \"${filename}\": `;\n",
              "      div.appendChild(label);\n",
              "      const progress = document.createElement('progress');\n",
              "      progress.max = size;\n",
              "      div.appendChild(progress);\n",
              "      document.body.appendChild(div);\n",
              "\n",
              "      const buffers = [];\n",
              "      let downloaded = 0;\n",
              "\n",
              "      const channel = await google.colab.kernel.comms.open(id);\n",
              "      // Send a message to notify the kernel that we're ready.\n",
              "      channel.send({})\n",
              "\n",
              "      for await (const message of channel.messages) {\n",
              "        // Send a message to notify the kernel that we're ready.\n",
              "        channel.send({})\n",
              "        if (message.buffers) {\n",
              "          for (const buffer of message.buffers) {\n",
              "            buffers.push(buffer);\n",
              "            downloaded += buffer.byteLength;\n",
              "            progress.value = downloaded;\n",
              "          }\n",
              "        }\n",
              "      }\n",
              "      const blob = new Blob(buffers, {type: 'application/binary'});\n",
              "      const a = document.createElement('a');\n",
              "      a.href = window.URL.createObjectURL(blob);\n",
              "      a.download = filename;\n",
              "      div.appendChild(a);\n",
              "      a.click();\n",
              "      div.remove();\n",
              "    }\n",
              "  "
            ]
          },
          "metadata": {}
        },
        {
          "output_type": "display_data",
          "data": {
            "text/plain": [
              "<IPython.core.display.Javascript object>"
            ],
            "application/javascript": [
              "download(\"download_fef211dd-4971-4b22-9dc0-a20c8d74795f\", \"ventas.xlsx\", 8654)"
            ]
          },
          "metadata": {}
        },
        {
          "output_type": "display_data",
          "data": {
            "text/plain": [
              "<IPython.core.display.Javascript object>"
            ],
            "application/javascript": [
              "\n",
              "    async function download(id, filename, size) {\n",
              "      if (!google.colab.kernel.accessAllowed) {\n",
              "        return;\n",
              "      }\n",
              "      const div = document.createElement('div');\n",
              "      const label = document.createElement('label');\n",
              "      label.textContent = `Downloading \"${filename}\": `;\n",
              "      div.appendChild(label);\n",
              "      const progress = document.createElement('progress');\n",
              "      progress.max = size;\n",
              "      div.appendChild(progress);\n",
              "      document.body.appendChild(div);\n",
              "\n",
              "      const buffers = [];\n",
              "      let downloaded = 0;\n",
              "\n",
              "      const channel = await google.colab.kernel.comms.open(id);\n",
              "      // Send a message to notify the kernel that we're ready.\n",
              "      channel.send({})\n",
              "\n",
              "      for await (const message of channel.messages) {\n",
              "        // Send a message to notify the kernel that we're ready.\n",
              "        channel.send({})\n",
              "        if (message.buffers) {\n",
              "          for (const buffer of message.buffers) {\n",
              "            buffers.push(buffer);\n",
              "            downloaded += buffer.byteLength;\n",
              "            progress.value = downloaded;\n",
              "          }\n",
              "        }\n",
              "      }\n",
              "      const blob = new Blob(buffers, {type: 'application/binary'});\n",
              "      const a = document.createElement('a');\n",
              "      a.href = window.URL.createObjectURL(blob);\n",
              "      a.download = filename;\n",
              "      div.appendChild(a);\n",
              "      a.click();\n",
              "      div.remove();\n",
              "    }\n",
              "  "
            ]
          },
          "metadata": {}
        },
        {
          "output_type": "display_data",
          "data": {
            "text/plain": [
              "<IPython.core.display.Javascript object>"
            ],
            "application/javascript": [
              "download(\"download_ff9c0665-7225-4509-bca3-d3b50e18de98\", \"opiniones.xlsx\", 7512)"
            ]
          },
          "metadata": {}
        }
      ]
    }
  ]
}